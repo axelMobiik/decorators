{
 "cells": [
  {
   "cell_type": "markdown",
   "id": "0d1f40d0-3c91-4c7d-ba5a-fc2b52c30502",
   "metadata": {},
   "source": [
    "<h1>Decorators</h1>\n",
    "<li>Decorators allow you to \"decorate\" a function, let's discuss what that word means in this context</li>\n",
    "<li>Imagine you created a function:</li>\n",
    "\n",
    "<code>def simple_func():\n",
    "    # Do simple stuff\n",
    "    return something</code>\n",
    "    \n",
    "<li>Now you want to add some new capabilities to the function:</li>\n",
    "\n",
    "<code>def simple func():\n",
    "    # Want to do more stuff!\n",
    "    # Do simple stuff\n",
    "    return something</code>\n",
    "\n",
    "<li>You now hace two options:</li>\n",
    "<li>> Add that extra code (functionality) to your old function</li>\n",
    "<li>> Create a brand new function that contains the old code, and then add new code to that</li>\n",
    "<li>But what if you then want to remove that extra \"functionality\"</li>\n",
    "<li>You would need to delete it manually, or make sure to have the old function</li>\n",
    "<li>Is there a better way? Maybe an on/off switch to quickly add this functionality?</li>\n",
    "<li>Python has <strong>decorators</strong> that allow you to tack on extra functionality to an already existing function</li>\n",
    "<li>They use the <strong>@</strong> operator and are then placed on top of the original function</li>\n",
    "<li>Now you can easily add on extra funcionality with a decorator:</li>\n",
    "\n",
    "<code>@some_decorator\n",
    "def simple_func():\n",
    "    # Do simple stuff\n",
    "    return something</code>\n",
    "<li>This isea is pretty abstract in practice with Python syntax, so we will go through the steps of manually building out a decorator ourselves, to show what the <strong>@</strong> operator is doing behind the scenes</li>"
   ]
  },
  {
   "cell_type": "code",
   "execution_count": 1,
   "id": "5e126116-68b5-49bb-8456-ae8d757afb50",
   "metadata": {},
   "outputs": [],
   "source": [
    "def func():\n",
    "    return 1"
   ]
  },
  {
   "cell_type": "code",
   "execution_count": 2,
   "id": "148b95df-fa1f-4d5c-9859-791f50505155",
   "metadata": {},
   "outputs": [
    {
     "data": {
      "text/plain": [
       "1"
      ]
     },
     "execution_count": 2,
     "metadata": {},
     "output_type": "execute_result"
    }
   ],
   "source": [
    "func()"
   ]
  },
  {
   "cell_type": "code",
   "execution_count": 3,
   "id": "e556a456-fe60-43d8-9377-61b231848749",
   "metadata": {},
   "outputs": [],
   "source": [
    "def hello():\n",
    "    return 'Hello'"
   ]
  },
  {
   "cell_type": "code",
   "execution_count": 4,
   "id": "da561f6a-c0c4-4dd2-a70d-9128273e1d8e",
   "metadata": {},
   "outputs": [
    {
     "data": {
      "text/plain": [
       "'Hello'"
      ]
     },
     "execution_count": 4,
     "metadata": {},
     "output_type": "execute_result"
    }
   ],
   "source": [
    "hello()"
   ]
  },
  {
   "cell_type": "code",
   "execution_count": 5,
   "id": "d8c2b204-5db7-4329-9475-291e847c9c3c",
   "metadata": {},
   "outputs": [
    {
     "data": {
      "text/plain": [
       "<function __main__.hello()>"
      ]
     },
     "execution_count": 5,
     "metadata": {},
     "output_type": "execute_result"
    }
   ],
   "source": [
    "hello"
   ]
  },
  {
   "cell_type": "code",
   "execution_count": 6,
   "id": "680c632f-84a6-4dab-9cd0-22392ff42454",
   "metadata": {},
   "outputs": [
    {
     "data": {
      "text/plain": [
       "'Hello'"
      ]
     },
     "execution_count": 6,
     "metadata": {},
     "output_type": "execute_result"
    }
   ],
   "source": [
    "greet = hello\n",
    "greet()"
   ]
  },
  {
   "cell_type": "code",
   "execution_count": 7,
   "id": "70835b3a-a53c-456f-8744-4bacaca9b0ec",
   "metadata": {},
   "outputs": [],
   "source": [
    "del hello"
   ]
  },
  {
   "cell_type": "code",
   "execution_count": 10,
   "id": "d5c4030a-5912-42c0-a7b0-961f081c4d31",
   "metadata": {},
   "outputs": [
    {
     "data": {
      "text/plain": [
       "'Hello'"
      ]
     },
     "execution_count": 10,
     "metadata": {},
     "output_type": "execute_result"
    }
   ],
   "source": [
    "greet()"
   ]
  },
  {
   "cell_type": "code",
   "execution_count": null,
   "id": "40f6e85a-b0b1-4437-9d5b-af997d758f05",
   "metadata": {},
   "outputs": [],
   "source": []
  },
  {
   "cell_type": "code",
   "execution_count": null,
   "id": "0dbe226a-0a48-40cc-890f-d8d9785ee577",
   "metadata": {},
   "outputs": [],
   "source": []
  },
  {
   "cell_type": "code",
   "execution_count": 23,
   "id": "b20ef348-6f66-4465-a09f-b5a5f1cdab19",
   "metadata": {},
   "outputs": [],
   "source": [
    "def hello(name = 'Axel'):\n",
    "    print(\"The hello() function has been executed!\")\n",
    "\n",
    "    def greet():\n",
    "        return '\\tThis is the greer() func inside hello!'\n",
    "\n",
    "    def welcome():\n",
    "        return '\\tThis is welcome() funct inside hello!'\n",
    "\n",
    "    print('I am going to return a function!!')\n",
    "\n",
    "    if name == 'Axel':\n",
    "        return greet\n",
    "    else:\n",
    "        return welcome"
   ]
  },
  {
   "cell_type": "code",
   "execution_count": 24,
   "id": "2c062d56-9751-47ab-ab43-57c2fed96f89",
   "metadata": {},
   "outputs": [
    {
     "name": "stdout",
     "output_type": "stream",
     "text": [
      "The hello() function has been executed!\n",
      "I am going to return a function!!\n"
     ]
    }
   ],
   "source": [
    "my_new_func = hello('Axel')"
   ]
  },
  {
   "cell_type": "code",
   "execution_count": 27,
   "id": "854e4ab3-0280-42d0-b4a9-92b3b6d5a5f4",
   "metadata": {},
   "outputs": [
    {
     "name": "stdout",
     "output_type": "stream",
     "text": [
      "\tThis is the greer() func inside hello!\n"
     ]
    }
   ],
   "source": [
    "print(my_new_func())"
   ]
  },
  {
   "cell_type": "code",
   "execution_count": 28,
   "id": "3a82e634-e18b-437d-827b-bd4f7a1a12d7",
   "metadata": {},
   "outputs": [],
   "source": [
    "def cool():\n",
    "    def super_cool():\n",
    "        return 'I am very cool!!'\n",
    "    return super_cool"
   ]
  },
  {
   "cell_type": "code",
   "execution_count": 29,
   "id": "e0c5073e-a2e8-4640-a538-fa961e9fbd84",
   "metadata": {},
   "outputs": [],
   "source": [
    "some_func = cool()"
   ]
  },
  {
   "cell_type": "code",
   "execution_count": 30,
   "id": "54603ef0-9911-4923-8005-bfb18e85a61c",
   "metadata": {},
   "outputs": [
    {
     "data": {
      "text/plain": [
       "<function __main__.cool.<locals>.super_cool()>"
      ]
     },
     "execution_count": 30,
     "metadata": {},
     "output_type": "execute_result"
    }
   ],
   "source": [
    "some_func"
   ]
  },
  {
   "cell_type": "code",
   "execution_count": 31,
   "id": "e1707313-f7f5-47ef-820e-1bdcdf093c8f",
   "metadata": {},
   "outputs": [
    {
     "data": {
      "text/plain": [
       "'I am very cool!!'"
      ]
     },
     "execution_count": 31,
     "metadata": {},
     "output_type": "execute_result"
    }
   ],
   "source": [
    "some_func()"
   ]
  },
  {
   "cell_type": "code",
   "execution_count": 32,
   "id": "e02ce240-e0d8-44b1-a18c-a7d663a38b39",
   "metadata": {},
   "outputs": [
    {
     "name": "stdout",
     "output_type": "stream",
     "text": [
      "I am very cool!!\n"
     ]
    }
   ],
   "source": [
    "print(some_func())"
   ]
  },
  {
   "cell_type": "code",
   "execution_count": null,
   "id": "e3b43ba8-dd03-4fb4-ad98-72552d5c0057",
   "metadata": {},
   "outputs": [],
   "source": []
  },
  {
   "cell_type": "code",
   "execution_count": null,
   "id": "83ec6430-3314-44ea-82d0-bc9ab2f28250",
   "metadata": {},
   "outputs": [],
   "source": []
  },
  {
   "cell_type": "code",
   "execution_count": null,
   "id": "f86a3bf9-ebb8-4f50-9c90-d28621757c0f",
   "metadata": {},
   "outputs": [],
   "source": []
  },
  {
   "cell_type": "code",
   "execution_count": null,
   "id": "691d2e3f-149d-4e2f-84fd-ce767af3ec72",
   "metadata": {},
   "outputs": [],
   "source": []
  },
  {
   "cell_type": "code",
   "execution_count": 33,
   "id": "305431d9-d7cf-4d17-8ae4-41ca8d7571c1",
   "metadata": {},
   "outputs": [],
   "source": [
    "def hello():\n",
    "    return 'Hi, Axel!'"
   ]
  },
  {
   "cell_type": "code",
   "execution_count": 34,
   "id": "7ea7962e-9a8a-41f1-a9c7-d24b64a18f44",
   "metadata": {},
   "outputs": [],
   "source": [
    "def other(some_def_func):\n",
    "    print('Other code runs here!')\n",
    "    print(some_def_func())"
   ]
  },
  {
   "cell_type": "code",
   "execution_count": 35,
   "id": "9aeb217a-b06c-47ae-a91e-e6b15d92f0d5",
   "metadata": {},
   "outputs": [
    {
     "data": {
      "text/plain": [
       "<function __main__.hello()>"
      ]
     },
     "execution_count": 35,
     "metadata": {},
     "output_type": "execute_result"
    }
   ],
   "source": [
    "hello"
   ]
  },
  {
   "cell_type": "code",
   "execution_count": 36,
   "id": "c099cfb6-5008-43f8-9c0f-6d1bf2af3c83",
   "metadata": {},
   "outputs": [
    {
     "data": {
      "text/plain": [
       "'Hi, Axel!'"
      ]
     },
     "execution_count": 36,
     "metadata": {},
     "output_type": "execute_result"
    }
   ],
   "source": [
    "hello()"
   ]
  },
  {
   "cell_type": "code",
   "execution_count": 39,
   "id": "d8dc9882-4c0c-44a2-9aaf-796918756b2b",
   "metadata": {},
   "outputs": [
    {
     "name": "stdout",
     "output_type": "stream",
     "text": [
      "Other code runs here!\n",
      "Hi, Axel!\n"
     ]
    }
   ],
   "source": [
    "other(hello)"
   ]
  },
  {
   "cell_type": "code",
   "execution_count": 40,
   "id": "26d97c1a-be88-4be6-b4e9-615512b7df26",
   "metadata": {},
   "outputs": [],
   "source": [
    "def new_decorator(original_func):\n",
    "    def wrap_func():\n",
    "        print('Some extra code, before the original function')\n",
    "        original_func()\n",
    "        print('Some extra code, after the original function')\n",
    "\n",
    "    return wrap_func"
   ]
  },
  {
   "cell_type": "code",
   "execution_count": 41,
   "id": "67c12ae4-f6f0-4b8c-968e-3f2bd1918283",
   "metadata": {},
   "outputs": [],
   "source": [
    "def func_needs_decorator():\n",
    "    print('I want to be decorated!!')"
   ]
  },
  {
   "cell_type": "code",
   "execution_count": 42,
   "id": "025a926f-e581-4760-a8dc-e90d96e2fad1",
   "metadata": {},
   "outputs": [
    {
     "name": "stdout",
     "output_type": "stream",
     "text": [
      "I want to be decorated!!\n"
     ]
    }
   ],
   "source": [
    "func_needs_decorator()"
   ]
  },
  {
   "cell_type": "code",
   "execution_count": 43,
   "id": "598b60e3-3ca0-4c13-8262-092b44b2a874",
   "metadata": {},
   "outputs": [],
   "source": [
    "decorated_func = new_decorator(func_needs_decorator)"
   ]
  },
  {
   "cell_type": "code",
   "execution_count": 44,
   "id": "1c890896-024d-437e-92b3-16e8e790351f",
   "metadata": {},
   "outputs": [
    {
     "name": "stdout",
     "output_type": "stream",
     "text": [
      "Some extra code, before the original function\n",
      "I want to be decorated!!\n",
      "Some extra code, after the original function\n"
     ]
    }
   ],
   "source": [
    "decorated_func()"
   ]
  },
  {
   "cell_type": "code",
   "execution_count": 45,
   "id": "ed7ddc7b-2642-4c27-bd05-69d931bcc5a9",
   "metadata": {},
   "outputs": [],
   "source": [
    "@new_decorator\n",
    "def func_needs_decorator():\n",
    "    print('I want to be decorated!!')"
   ]
  },
  {
   "cell_type": "code",
   "execution_count": 46,
   "id": "615bc5bb-27a4-4188-b26e-8accdcf017a3",
   "metadata": {},
   "outputs": [
    {
     "name": "stdout",
     "output_type": "stream",
     "text": [
      "Some extra code, before the original function\n",
      "I want to be decorated!!\n",
      "Some extra code, after the original function\n"
     ]
    }
   ],
   "source": [
    "func_needs_decorator()"
   ]
  },
  {
   "cell_type": "code",
   "execution_count": null,
   "id": "963d1e24-dff8-438b-bfec-f173de1d6c86",
   "metadata": {},
   "outputs": [],
   "source": []
  }
 ],
 "metadata": {
  "kernelspec": {
   "display_name": "Python 3 (ipykernel)",
   "language": "python",
   "name": "python3"
  },
  "language_info": {
   "codemirror_mode": {
    "name": "ipython",
    "version": 3
   },
   "file_extension": ".py",
   "mimetype": "text/x-python",
   "name": "python",
   "nbconvert_exporter": "python",
   "pygments_lexer": "ipython3",
   "version": "3.11.7"
  }
 },
 "nbformat": 4,
 "nbformat_minor": 5
}
